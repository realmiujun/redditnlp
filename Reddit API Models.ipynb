{
 "cells": [
  {
   "cell_type": "markdown",
   "metadata": {},
   "source": [
    "# Reddit API:  To predict happiness in the consumers."
   ]
  },
  {
   "cell_type": "code",
   "execution_count": 1,
   "metadata": {},
   "outputs": [],
   "source": [
    "import pandas as pd\n",
    "import requests\n",
    "import time\n",
    "import matplotlib.pyplot as plt\n",
    "import numpy as np\n",
    "from sklearn.pipeline import Pipeline\n",
    "from sklearn.feature_extraction.text import TfidfVectorizer,CountVectorizer\n",
    "from sklearn.linear_model import LogisticRegression\n",
    "from sklearn.model_selection import GridSearchCV,train_test_split\n",
    "from sklearn.feature_extraction import stop_words\n",
    "from sklearn.metrics import confusion_matrix,roc_auc_score\n",
    "from scipy.sparse import csr_matrix, issparse\n",
    "from nltk.stem import WordNetLemmatizer\n",
    "from nltk.tokenize import RegexpTokenizer\n",
    "from sklearn.neighbors import KNeighborsClassifier\n",
    "from sklearn.ensemble import BaggingClassifier,RandomForestClassifier, ExtraTreesClassifier\n",
    "from sklearn.tree import DecisionTreeClassifier\n",
    "from sklearn.naive_bayes import GaussianNB,MultinomialNB,BernoulliNB\n",
    "from sklearn.svm import SVC\n",
    "import regex as re"
   ]
  },
  {
   "cell_type": "code",
   "execution_count": null,
   "metadata": {},
   "outputs": [],
   "source": [
    "import pandas as pd\n",
    "import requests\n",
    "from sklearn.feature_extraction.text import TfidfVectorizer,CountVectorizer\n",
    "from sklearn.linear_model import LogisticRegression\n",
    "from sklearn.model_selection import GridSearchCV,train_test_split\n",
    "from sklearn.feature_extraction import stop_words\n",
    "from sklearn.metrics import confusion_matrix,roc_auc_score\n",
    "from sklearn.pipeline import Pipeline"
   ]
  },
  {
   "cell_type": "code",
   "execution_count": 2,
   "metadata": {},
   "outputs": [
    {
     "data": {
      "text/plain": [
       "happy    0.538824\n",
       "angry    0.461176\n",
       "Name: subreddit, dtype: float64"
      ]
     },
     "execution_count": 2,
     "metadata": {},
     "output_type": "execute_result"
    }
   ],
   "source": [
    "final = pd.read_csv('final.csv')\n",
    "wow = pd.read_csv('wow.csv')\n",
    "final = final.dropna().drop_duplicates()\n",
    "final['subreddit'].value_counts(normalize=True)"
   ]
  },
  {
   "cell_type": "markdown",
   "metadata": {},
   "source": [
    "## Cleaning"
   ]
  },
  {
   "cell_type": "code",
   "execution_count": 3,
   "metadata": {},
   "outputs": [],
   "source": [
    "def get_lower(x): #Found out later that this is built into TfidfVectorizer\n",
    "    return x.lower()\n",
    "def get_letters(x):\n",
    "    return re.sub(\"[^a-zA-Z]\",\" \",x)\n",
    "final['body'] = final['body'].map(get_lower).map(get_letters)\n",
    "final = final[(~final['body'].str.contains('removed'))&(~final['body'].str.contains('deleted'))]\n",
    "wow['body'] = wow['body'].map(get_lower)\n",
    "X = final['body']\n",
    "y = final['subreddit']\n",
    "X_train, X_test, y_train, y_test = train_test_split(X,y,random_state=123)"
   ]
  },
  {
   "cell_type": "code",
   "execution_count": 4,
   "metadata": {},
   "outputs": [
    {
     "data": {
      "text/plain": [
       "(1683, 2)"
      ]
     },
     "execution_count": 4,
     "metadata": {},
     "output_type": "execute_result"
    }
   ],
   "source": [
    "final.shape"
   ]
  },
  {
   "cell_type": "markdown",
   "metadata": {},
   "source": [
    "# Modeling"
   ]
  },
  {
   "cell_type": "markdown",
   "metadata": {},
   "source": [
    "### Logistic Regression"
   ]
  },
  {
   "cell_type": "code",
   "execution_count": 5,
   "metadata": {},
   "outputs": [
    {
     "data": {
      "text/plain": [
       "GridSearchCV(cv=5, error_score='raise-deprecating',\n",
       "             estimator=Pipeline(memory=None,\n",
       "                                steps=[('tvec',\n",
       "                                        TfidfVectorizer(analyzer='word',\n",
       "                                                        binary=False,\n",
       "                                                        decode_error='strict',\n",
       "                                                        dtype=<class 'numpy.float64'>,\n",
       "                                                        encoding='utf-8',\n",
       "                                                        input='content',\n",
       "                                                        lowercase=True,\n",
       "                                                        max_df=1.0,\n",
       "                                                        max_features=None,\n",
       "                                                        min_df=1,\n",
       "                                                        ngram_range=(1, 1),\n",
       "                                                        norm='l2',\n",
       "                                                        preprocessor=None,\n",
       "                                                        smooth_idf=True,\n",
       "                                                        stop_words...\n",
       "                                                           multi_class='warn',\n",
       "                                                           n_jobs=None,\n",
       "                                                           penalty='l2',\n",
       "                                                           random_state=None,\n",
       "                                                           solver='liblinear',\n",
       "                                                           tol=0.0001,\n",
       "                                                           verbose=0,\n",
       "                                                           warm_start=False))],\n",
       "                                verbose=False),\n",
       "             iid='warn', n_jobs=None,\n",
       "             param_grid={'tvec__max_df': [0.4, 0.35],\n",
       "                         'tvec__max_features': [1250], 'tvec__min_df': [3],\n",
       "                         'tvec__ngram_range': [(1, 1), (1, 2)]},\n",
       "             pre_dispatch='2*n_jobs', refit=True, return_train_score=False,\n",
       "             scoring=None, verbose=0)"
      ]
     },
     "execution_count": 5,
     "metadata": {},
     "output_type": "execute_result"
    }
   ],
   "source": [
    "pipe = Pipeline([\n",
    "    ('tvec',TfidfVectorizer(stop_words='english')),\n",
    "    ('lr',LogisticRegression(solver='liblinear'))\n",
    "])\n",
    "pipe_params = {\n",
    "    'tvec__max_features':[1250],\n",
    "    'tvec__min_df':[3],\n",
    "    'tvec__max_df':[.4,.35,],\n",
    "    'tvec__ngram_range':[(1,1),(1,2)]\n",
    "}\n",
    "gs = GridSearchCV(pipe,pipe_params,cv=5)\n",
    "gs.fit(X_train,y_train)"
   ]
  },
  {
   "cell_type": "markdown",
   "metadata": {},
   "source": [
    "### Scores"
   ]
  },
  {
   "cell_type": "code",
   "execution_count": 6,
   "metadata": {},
   "outputs": [
    {
     "name": "stdout",
     "output_type": "stream",
     "text": [
      "Best score is 0.9112519809825673\n",
      "Best parameters are {'tvec__max_df': 0.4, 'tvec__max_features': 1250, 'tvec__min_df': 3, 'tvec__ngram_range': (1, 1)}\n",
      "Train score is 0.9540412044374009\n",
      "Test score is 0.9239904988123515\n"
     ]
    }
   ],
   "source": [
    "print(f'Best score is {gs.best_score_}')\n",
    "print(f'Best parameters are {gs.best_params_}')\n",
    "best = gs.best_estimator_\n",
    "print(f'Train score is {best.score(X_train,y_train)}')\n",
    "print(f'Test score is {best.score(X_test,y_test)}')"
   ]
  },
  {
   "cell_type": "code",
   "execution_count": 7,
   "metadata": {},
   "outputs": [],
   "source": [
    "final['log_predict'] = best.predict(X)"
   ]
  },
  {
   "cell_type": "markdown",
   "metadata": {},
   "source": [
    "### False Positives?"
   ]
  },
  {
   "cell_type": "code",
   "execution_count": 8,
   "metadata": {},
   "outputs": [
    {
     "name": "stdout",
     "output_type": "stream",
     "text": [
      "True negatives: 191\n",
      "False positives: 22\n",
      "False negatives: 10\n",
      "True positives: 198\n"
     ]
    }
   ],
   "source": [
    "cm = confusion_matrix(y_test,\n",
    "                 best.predict(X_test))\n",
    "tn, fp, fn, tp = confusion_matrix(y_test,\n",
    "                 best.predict(X_test)).ravel()\n",
    "print(f'True negatives: {tn}')\n",
    "print(f'False positives: {fp}')\n",
    "print(f'False negatives: {fn}')\n",
    "print(f'True positives: {tp}')"
   ]
  },
  {
   "cell_type": "code",
   "execution_count": 9,
   "metadata": {
    "scrolled": true
   },
   "outputs": [
    {
     "name": "stdout",
     "output_type": "stream",
     "text": [
      "ROC AUC: 0.9439199943157596\n"
     ]
    },
    {
     "data": {
      "text/html": [
       "<div>\n",
       "<style scoped>\n",
       "    .dataframe tbody tr th:only-of-type {\n",
       "        vertical-align: middle;\n",
       "    }\n",
       "\n",
       "    .dataframe tbody tr th {\n",
       "        vertical-align: top;\n",
       "    }\n",
       "\n",
       "    .dataframe thead th {\n",
       "        text-align: right;\n",
       "    }\n",
       "</style>\n",
       "<table border=\"1\" class=\"dataframe\">\n",
       "  <thead>\n",
       "    <tr style=\"text-align: right;\">\n",
       "      <th></th>\n",
       "      <th>Predicted Angry</th>\n",
       "      <th>Predicted Happy</th>\n",
       "    </tr>\n",
       "  </thead>\n",
       "  <tbody>\n",
       "    <tr>\n",
       "      <th>Actually Angry</th>\n",
       "      <td>191</td>\n",
       "      <td>22</td>\n",
       "    </tr>\n",
       "    <tr>\n",
       "      <th>Actually Happy</th>\n",
       "      <td>10</td>\n",
       "      <td>198</td>\n",
       "    </tr>\n",
       "  </tbody>\n",
       "</table>\n",
       "</div>"
      ],
      "text/plain": [
       "                Predicted Angry  Predicted Happy\n",
       "Actually Angry              191               22\n",
       "Actually Happy               10              198"
      ]
     },
     "execution_count": 9,
     "metadata": {},
     "output_type": "execute_result"
    }
   ],
   "source": [
    "roc = roc_auc_score(final['subreddit'].replace({'angry':0,'happy':1}),\n",
    "              final['log_predict'].replace({'angry':0,'happy':1}))\n",
    "print(f'ROC AUC: {roc}')\n",
    "cm_df = pd.DataFrame(cm, columns=['Predicted Angry', 'Predicted Happy'],\n",
    "                     index=['Actually Angry', 'Actually Happy'])\n",
    "cm_df"
   ]
  },
  {
   "cell_type": "markdown",
   "metadata": {},
   "source": [
    "### Plot to visualize how our data spread is"
   ]
  },
  {
   "cell_type": "code",
   "execution_count": 10,
   "metadata": {
    "scrolled": false
   },
   "outputs": [
    {
     "data": {
      "image/png": "[encoded data removed]",
      "text/plain": [
       "<Figure size 720x504 with 1 Axes>"
      ]
     },
     "metadata": {
      "needs_background": "light"
     },
     "output_type": "display_data"
    }
   ],
   "source": [
    "pred_proba = [i[1] for i in best.predict_proba(X_test)]\n",
    "pred_df = pd.DataFrame({'true_values': y_test,\n",
    "                        'pred_probs':pred_proba})\n",
    "# Create figure.\n",
    "plt.figure(figsize = (10,7))\n",
    "\n",
    "# Create two histograms of observations.\n",
    "plt.hist(pred_df[pred_df['true_values'] == 'angry']['pred_probs'],\n",
    "         bins = 25,\n",
    "         color = 'b',\n",
    "         alpha = 0.6,\n",
    "         label = 'Outcome = Angry')\n",
    "plt.hist(pred_df[pred_df['true_values'] == 'happy']['pred_probs'],\n",
    "         bins = 25,\n",
    "         color = 'orange',\n",
    "         alpha = 0.6,\n",
    "         label = 'Outcome = Happy')\n",
    "plt.vlines(x=.7,\n",
    "          ymin=0,\n",
    "          ymax=25,\n",
    "          color='grey',\n",
    "          linestyle='dashdot')\n",
    "\n",
    "# Label axes.\n",
    "plt.title('Distribution of P(Outcome = Happy)', fontsize = 22)\n",
    "plt.ylabel('Frequency', fontsize = 18)\n",
    "plt.xlabel('Predicted Probability that Outcome = Happy', fontsize = 18)\n",
    "\n",
    "# Create legend.\n",
    "plt.legend(fontsize = 20)\n",
    "#Thank you Matt for the code from our lecture!\n",
    "plt.savefig('log_plot.png');"
   ]
  },
  {
   "cell_type": "code",
   "execution_count": 11,
   "metadata": {},
   "outputs": [],
   "source": [
    "pd.set_option('display.max_colwidth', -1)"
   ]
  },
  {
   "cell_type": "markdown",
   "metadata": {},
   "source": [
    "### Since we want specificity, let's adjust all values under .7 to be angry."
   ]
  },
  {
   "cell_type": "code",
   "execution_count": 12,
   "metadata": {},
   "outputs": [
    {
     "data": {
      "text/html": [
       "<div>\n",
       "<style scoped>\n",
       "    .dataframe tbody tr th:only-of-type {\n",
       "        vertical-align: middle;\n",
       "    }\n",
       "\n",
       "    .dataframe tbody tr th {\n",
       "        vertical-align: top;\n",
       "    }\n",
       "\n",
       "    .dataframe thead th {\n",
       "        text-align: right;\n",
       "    }\n",
       "</style>\n",
       "<table border=\"1\" class=\"dataframe\">\n",
       "  <thead>\n",
       "    <tr style=\"text-align: right;\">\n",
       "      <th></th>\n",
       "      <th>body</th>\n",
       "      <th>subreddit</th>\n",
       "      <th>log_predict</th>\n",
       "      <th>log_proba</th>\n",
       "      <th>log_adjust</th>\n",
       "    </tr>\n",
       "  </thead>\n",
       "  <tbody>\n",
       "    <tr>\n",
       "      <th>722</th>\n",
       "      <td>op    zengoyano    image stats       width         height          pixels             size            history     user   date   match     image   title   karma   comments   status                                          u euphorichords   january                                   x       https   i redd it g  lawricx    jpg         yrs ago i shaved my head  i ve struggled with depression most of my life and a lot of imposter syndrome  i have been dealing with cystic acne that leaves scars on the sides of my face and i m just learning to be an adult  your    s are hard  but i m making progress and today i feel beautiful   https   redd it abp zy                   active</td>\n",
       "      <td>happy</td>\n",
       "      <td>happy</td>\n",
       "      <td>0.699867</td>\n",
       "      <td>angry</td>\n",
       "    </tr>\n",
       "    <tr>\n",
       "      <th>281</th>\n",
       "      <td>world awaits  congratulations on your accomplishment  i am saving your post to share with my grandkids  lots of work out there people</td>\n",
       "      <td>happy</td>\n",
       "      <td>happy</td>\n",
       "      <td>0.699743</td>\n",
       "      <td>angry</td>\n",
       "    </tr>\n",
       "    <tr>\n",
       "      <th>637</th>\n",
       "      <td>that is great  i am dyslexic and i am unsure if it was an fu to the world but i forced myself to read  no regrets at all  we cannot live by by our weaknesses  and it takes courage to overcome    i actually found hidden in my dyslexia was a strength i never knew  later  i found malcom gladwells  david and golith  which is about the strengths in weaknesses  there is a whole story about the greatness of dyslexia in it that was truly eye opening    way to go</td>\n",
       "      <td>happy</td>\n",
       "      <td>happy</td>\n",
       "      <td>0.698453</td>\n",
       "      <td>angry</td>\n",
       "    </tr>\n",
       "    <tr>\n",
       "      <th>278</th>\n",
       "      <td>consider not wearing that nose ring if you need to work near high voltage transformers</td>\n",
       "      <td>happy</td>\n",
       "      <td>happy</td>\n",
       "      <td>0.697941</td>\n",
       "      <td>angry</td>\n",
       "    </tr>\n",
       "    <tr>\n",
       "      <th>503</th>\n",
       "      <td>thank you for this  i totally get that feeling  i m lonely but  free  today  i had a wonderful time walking then just hanging out with my girls all afternoon evening without any hassle stress  i m rooting for you too  if you want to chat please feel free to message me</td>\n",
       "      <td>happy</td>\n",
       "      <td>happy</td>\n",
       "      <td>0.695991</td>\n",
       "      <td>angry</td>\n",
       "    </tr>\n",
       "    <tr>\n",
       "      <th>103</th>\n",
       "      <td>wow that s quite an achievement  food means very much to me  and i think it can really build relationships and communities  kudos for contributing to food lit and building communities</td>\n",
       "      <td>happy</td>\n",
       "      <td>happy</td>\n",
       "      <td>0.695883</td>\n",
       "      <td>angry</td>\n",
       "    </tr>\n",
       "    <tr>\n",
       "      <th>628</th>\n",
       "      <td>will you get black doors and different wheels  or will you paint  popo  on the side and mess with people</td>\n",
       "      <td>happy</td>\n",
       "      <td>happy</td>\n",
       "      <td>0.695366</td>\n",
       "      <td>angry</td>\n",
       "    </tr>\n",
       "    <tr>\n",
       "      <th>832</th>\n",
       "      <td>i wonder what will happen when you will stop to take them</td>\n",
       "      <td>happy</td>\n",
       "      <td>happy</td>\n",
       "      <td>0.695352</td>\n",
       "      <td>angry</td>\n",
       "    </tr>\n",
       "    <tr>\n",
       "      <th>1097</th>\n",
       "      <td>liars    thats all they ever were</td>\n",
       "      <td>angry</td>\n",
       "      <td>happy</td>\n",
       "      <td>0.694967</td>\n",
       "      <td>angry</td>\n",
       "    </tr>\n",
       "    <tr>\n",
       "      <th>332</th>\n",
       "      <td>you shall henceforth be known as sparky</td>\n",
       "      <td>happy</td>\n",
       "      <td>happy</td>\n",
       "      <td>0.694258</td>\n",
       "      <td>angry</td>\n",
       "    </tr>\n",
       "  </tbody>\n",
       "</table>\n",
       "</div>"
      ],
      "text/plain": [
       "                                                                                                                                                                                                                                                                                                                                                                                                                                                                                                                                                                                                                                                                                                       body  \\\n",
       "722     op    zengoyano    image stats       width         height          pixels             size            history     user   date   match     image   title   karma   comments   status                                          u euphorichords   january                                   x       https   i redd it g  lawricx    jpg         yrs ago i shaved my head  i ve struggled with depression most of my life and a lot of imposter syndrome  i have been dealing with cystic acne that leaves scars on the sides of my face and i m just learning to be an adult  your    s are hard  but i m making progress and today i feel beautiful   https   redd it abp zy                   active   \n",
       "281   world awaits  congratulations on your accomplishment  i am saving your post to share with my grandkids  lots of work out there people                                                                                                                                                                                                                                                                                                                                                                                                                                                                                                                                                                   \n",
       "637   that is great  i am dyslexic and i am unsure if it was an fu to the world but i forced myself to read  no regrets at all  we cannot live by by our weaknesses  and it takes courage to overcome    i actually found hidden in my dyslexia was a strength i never knew  later  i found malcom gladwells  david and golith  which is about the strengths in weaknesses  there is a whole story about the greatness of dyslexia in it that was truly eye opening    way to go                                                                                                                                                                                                                              \n",
       "278   consider not wearing that nose ring if you need to work near high voltage transformers                                                                                                                                                                                                                                                                                                                                                                                                                                                                                                                                                                                                                  \n",
       "503   thank you for this  i totally get that feeling  i m lonely but  free  today  i had a wonderful time walking then just hanging out with my girls all afternoon evening without any hassle stress  i m rooting for you too  if you want to chat please feel free to message me                                                                                                                                                                                                                                                                                                                                                                                                                            \n",
       "103   wow that s quite an achievement  food means very much to me  and i think it can really build relationships and communities  kudos for contributing to food lit and building communities                                                                                                                                                                                                                                                                                                                                                                                                                                                                                                                 \n",
       "628   will you get black doors and different wheels  or will you paint  popo  on the side and mess with people                                                                                                                                                                                                                                                                                                                                                                                                                                                                                                                                                                                                \n",
       "832   i wonder what will happen when you will stop to take them                                                                                                                                                                                                                                                                                                                                                                                                                                                                                                                                                                                                                                               \n",
       "1097  liars    thats all they ever were                                                                                                                                                                                                                                                                                                                                                                                                                                                                                                                                                                                                                                                                       \n",
       "332   you shall henceforth be known as sparky                                                                                                                                                                                                                                                                                                                                                                                                                                                                                                                                                                                                                                                                 \n",
       "\n",
       "     subreddit log_predict  log_proba log_adjust  \n",
       "722   happy     happy       0.699867   angry      \n",
       "281   happy     happy       0.699743   angry      \n",
       "637   happy     happy       0.698453   angry      \n",
       "278   happy     happy       0.697941   angry      \n",
       "503   happy     happy       0.695991   angry      \n",
       "103   happy     happy       0.695883   angry      \n",
       "628   happy     happy       0.695366   angry      \n",
       "832   happy     happy       0.695352   angry      \n",
       "1097  angry     happy       0.694967   angry      \n",
       "332   happy     happy       0.694258   angry      "
      ]
     },
     "execution_count": 12,
     "metadata": {},
     "output_type": "execute_result"
    }
   ],
   "source": [
    "final['log_proba'] = [i[1] for i in best.predict_proba(X)]\n",
    "final['log_adjust'] = np.where(final['log_proba']<.7, 'angry', 'happy')\n",
    "temp_df = pd.DataFrame(best.predict_proba(X_test))\n",
    "final[final['log_adjust']=='angry'].sort_values(by='log_proba',ascending=False).head(10)"
   ]
  },
  {
   "cell_type": "markdown",
   "metadata": {},
   "source": [
    "### Our new confusion matrix"
   ]
  },
  {
   "cell_type": "code",
   "execution_count": 13,
   "metadata": {},
   "outputs": [
    {
     "name": "stdout",
     "output_type": "stream",
     "text": [
      "ROC AUC: 0.8903694756288191\n"
     ]
    },
    {
     "data": {
      "text/html": [
       "<div>\n",
       "<style scoped>\n",
       "    .dataframe tbody tr th:only-of-type {\n",
       "        vertical-align: middle;\n",
       "    }\n",
       "\n",
       "    .dataframe tbody tr th {\n",
       "        vertical-align: top;\n",
       "    }\n",
       "\n",
       "    .dataframe thead th {\n",
       "        text-align: right;\n",
       "    }\n",
       "</style>\n",
       "<table border=\"1\" class=\"dataframe\">\n",
       "  <thead>\n",
       "    <tr style=\"text-align: right;\">\n",
       "      <th></th>\n",
       "      <th>Predicted Angry</th>\n",
       "      <th>Predicted Happy</th>\n",
       "    </tr>\n",
       "  </thead>\n",
       "  <tbody>\n",
       "    <tr>\n",
       "      <th>Actually Angry</th>\n",
       "      <td>208</td>\n",
       "      <td>5</td>\n",
       "    </tr>\n",
       "    <tr>\n",
       "      <th>Actually Happy</th>\n",
       "      <td>54</td>\n",
       "      <td>154</td>\n",
       "    </tr>\n",
       "  </tbody>\n",
       "</table>\n",
       "</div>"
      ],
      "text/plain": [
       "                Predicted Angry  Predicted Happy\n",
       "Actually Angry  208              5              \n",
       "Actually Happy  54               154            "
      ]
     },
     "execution_count": 13,
     "metadata": {},
     "output_type": "execute_result"
    }
   ],
   "source": [
    "temp_df['log_adjust'] = None\n",
    "temp_df['log_adjust'] = np.where(temp_df[1]<.7,'angry','happy')\n",
    "\n",
    "cm = confusion_matrix(y_test,\n",
    "                 temp_df['log_adjust'])\n",
    "\n",
    "roc = roc_auc_score(final['subreddit'].replace({'angry':0,'happy':1}),\n",
    "              final['log_adjust'].replace({'angry':0,'happy':1}))\n",
    "print(f'ROC AUC: {roc}')\n",
    "cm_df = pd.DataFrame(cm, columns=['Predicted Angry', 'Predicted Happy'],\n",
    "                     index=['Actually Angry', 'Actually Happy'])\n",
    "cm_df"
   ]
  },
  {
   "cell_type": "markdown",
   "metadata": {},
   "source": [
    "### Coefficients"
   ]
  },
  {
   "cell_type": "code",
   "execution_count": 28,
   "metadata": {},
   "outputs": [],
   "source": [
    "coef = best.named_steps['lr'].coef_[0]\n",
    "\n",
    "cols = best.named_steps['tvec'].get_feature_names()\n",
    "\n",
    "words_df = pd.DataFrame(zip(cols,coef), columns=[\"words\", \"coefficient\"])"
   ]
  },
  {
   "cell_type": "code",
   "execution_count": 29,
   "metadata": {},
   "outputs": [
    {
     "data": {
      "text/html": [
       "<div>\n",
       "<style scoped>\n",
       "    .dataframe tbody tr th:only-of-type {\n",
       "        vertical-align: middle;\n",
       "    }\n",
       "\n",
       "    .dataframe tbody tr th {\n",
       "        vertical-align: top;\n",
       "    }\n",
       "\n",
       "    .dataframe thead th {\n",
       "        text-align: right;\n",
       "    }\n",
       "</style>\n",
       "<table border=\"1\" class=\"dataframe\">\n",
       "  <thead>\n",
       "    <tr style=\"text-align: right;\">\n",
       "      <th></th>\n",
       "      <th>words</th>\n",
       "      <th>coefficient</th>\n",
       "    </tr>\n",
       "  </thead>\n",
       "  <tbody>\n",
       "    <tr>\n",
       "      <th>86</th>\n",
       "      <td>beautiful</td>\n",
       "      <td>1.154862</td>\n",
       "    </tr>\n",
       "    <tr>\n",
       "      <th>470</th>\n",
       "      <td>great</td>\n",
       "      <td>1.220071</td>\n",
       "    </tr>\n",
       "    <tr>\n",
       "      <th>483</th>\n",
       "      <td>haha</td>\n",
       "      <td>1.289763</td>\n",
       "    </tr>\n",
       "    <tr>\n",
       "      <th>462</th>\n",
       "      <td>good</td>\n",
       "      <td>1.593512</td>\n",
       "    </tr>\n",
       "    <tr>\n",
       "      <th>66</th>\n",
       "      <td>awesome</td>\n",
       "      <td>1.657210</td>\n",
       "    </tr>\n",
       "    <tr>\n",
       "      <th>844</th>\n",
       "      <td>proud</td>\n",
       "      <td>1.693410</td>\n",
       "    </tr>\n",
       "    <tr>\n",
       "      <th>1084</th>\n",
       "      <td>thank</td>\n",
       "      <td>1.979749</td>\n",
       "    </tr>\n",
       "    <tr>\n",
       "      <th>203</th>\n",
       "      <td>congrats</td>\n",
       "      <td>2.016744</td>\n",
       "    </tr>\n",
       "    <tr>\n",
       "      <th>495</th>\n",
       "      <td>happy</td>\n",
       "      <td>2.287747</td>\n",
       "    </tr>\n",
       "    <tr>\n",
       "      <th>204</th>\n",
       "      <td>congratulations</td>\n",
       "      <td>2.406704</td>\n",
       "    </tr>\n",
       "  </tbody>\n",
       "</table>\n",
       "</div>"
      ],
      "text/plain": [
       "                words  coefficient\n",
       "86    beautiful        1.154862   \n",
       "470   great            1.220071   \n",
       "483   haha             1.289763   \n",
       "462   good             1.593512   \n",
       "66    awesome          1.657210   \n",
       "844   proud            1.693410   \n",
       "1084  thank            1.979749   \n",
       "203   congrats         2.016744   \n",
       "495   happy            2.287747   \n",
       "204   congratulations  2.406704   "
      ]
     },
     "execution_count": 29,
     "metadata": {},
     "output_type": "execute_result"
    }
   ],
   "source": [
    "words_df.sort_values('coefficient').tail(10)"
   ]
  },
  {
   "cell_type": "code",
   "execution_count": 30,
   "metadata": {},
   "outputs": [
    {
     "data": {
      "text/html": [
       "<div>\n",
       "<style scoped>\n",
       "    .dataframe tbody tr th:only-of-type {\n",
       "        vertical-align: middle;\n",
       "    }\n",
       "\n",
       "    .dataframe tbody tr th {\n",
       "        vertical-align: top;\n",
       "    }\n",
       "\n",
       "    .dataframe thead th {\n",
       "        text-align: right;\n",
       "    }\n",
       "</style>\n",
       "<table border=\"1\" class=\"dataframe\">\n",
       "  <thead>\n",
       "    <tr style=\"text-align: right;\">\n",
       "      <th></th>\n",
       "      <th>words</th>\n",
       "      <th>coefficient</th>\n",
       "    </tr>\n",
       "  </thead>\n",
       "  <tbody>\n",
       "    <tr>\n",
       "      <th>432</th>\n",
       "      <td>fucking</td>\n",
       "      <td>-3.526763</td>\n",
       "    </tr>\n",
       "    <tr>\n",
       "      <th>428</th>\n",
       "      <td>fuck</td>\n",
       "      <td>-3.310606</td>\n",
       "    </tr>\n",
       "    <tr>\n",
       "      <th>31</th>\n",
       "      <td>angry</td>\n",
       "      <td>-2.629558</td>\n",
       "    </tr>\n",
       "    <tr>\n",
       "      <th>584</th>\n",
       "      <td>just</td>\n",
       "      <td>-2.545966</td>\n",
       "    </tr>\n",
       "    <tr>\n",
       "      <th>499</th>\n",
       "      <td>hate</td>\n",
       "      <td>-2.462121</td>\n",
       "    </tr>\n",
       "    <tr>\n",
       "      <th>784</th>\n",
       "      <td>people</td>\n",
       "      <td>-2.301528</td>\n",
       "    </tr>\n",
       "    <tr>\n",
       "      <th>964</th>\n",
       "      <td>shit</td>\n",
       "      <td>-2.080705</td>\n",
       "    </tr>\n",
       "    <tr>\n",
       "      <th>550</th>\n",
       "      <td>im</td>\n",
       "      <td>-1.483257</td>\n",
       "    </tr>\n",
       "    <tr>\n",
       "      <th>924</th>\n",
       "      <td>said</td>\n",
       "      <td>-1.451970</td>\n",
       "    </tr>\n",
       "    <tr>\n",
       "      <th>438</th>\n",
       "      <td>game</td>\n",
       "      <td>-1.439564</td>\n",
       "    </tr>\n",
       "  </tbody>\n",
       "</table>\n",
       "</div>"
      ],
      "text/plain": [
       "       words  coefficient\n",
       "432  fucking -3.526763   \n",
       "428  fuck    -3.310606   \n",
       "31   angry   -2.629558   \n",
       "584  just    -2.545966   \n",
       "499  hate    -2.462121   \n",
       "784  people  -2.301528   \n",
       "964  shit    -2.080705   \n",
       "550  im      -1.483257   \n",
       "924  said    -1.451970   \n",
       "438  game    -1.439564   "
      ]
     },
     "execution_count": 30,
     "metadata": {},
     "output_type": "execute_result"
    }
   ],
   "source": [
    "words_df.sort_values('coefficient').head(10)"
   ]
  },
  {
   "cell_type": "code",
   "execution_count": 31,
   "metadata": {},
   "outputs": [],
   "source": [
    "words_df.to_csv('word_coef.csv',index=False)"
   ]
  },
  {
   "cell_type": "markdown",
   "metadata": {},
   "source": [
    "## Applying log reg to WoW reddit data"
   ]
  },
  {
   "cell_type": "code",
   "execution_count": 18,
   "metadata": {},
   "outputs": [
    {
     "data": {
      "text/plain": [
       "angry    757\n",
       "happy    243\n",
       "Name: log_adjust, dtype: int64"
      ]
     },
     "execution_count": 18,
     "metadata": {},
     "output_type": "execute_result"
    }
   ],
   "source": [
    "wow['log_proba'] = None\n",
    "wow['log_proba'] = best.predict_proba(wow['body'])\n",
    "wow['log_proba'] = [i[1] for i in best.predict_proba(wow['body'])]\n",
    "wow['log_adjust'] = None\n",
    "wow['log_adjust'] = np.where(wow['log_proba']<.7, 'angry', 'happy')\n",
    "wow['log_adjust'].value_counts()"
   ]
  },
  {
   "cell_type": "code",
   "execution_count": 19,
   "metadata": {},
   "outputs": [],
   "source": [
    "wow.to_csv('final_wow.csv',index=False)"
   ]
  },
  {
   "cell_type": "markdown",
   "metadata": {},
   "source": [
    "# Disclaimer: All models below have been tested with many parameters.  Only the best parameters have been left inside the cells. Adjustment of values under 0.7 was NOT implemented in the below models as they fell short in comparison to our logistic regression model."
   ]
  },
  {
   "cell_type": "markdown",
   "metadata": {},
   "source": [
    "### K Nearest Neighbors"
   ]
  },
  {
   "cell_type": "code",
   "execution_count": 20,
   "metadata": {},
   "outputs": [
    {
     "data": {
      "text/plain": [
       "GridSearchCV(cv=5, error_score='raise-deprecating',\n",
       "             estimator=Pipeline(memory=None,\n",
       "                                steps=[('tvec',\n",
       "                                        TfidfVectorizer(analyzer='word',\n",
       "                                                        binary=False,\n",
       "                                                        decode_error='strict',\n",
       "                                                        dtype=<class 'numpy.float64'>,\n",
       "                                                        encoding='utf-8',\n",
       "                                                        input='content',\n",
       "                                                        lowercase=True,\n",
       "                                                        max_df=1.0,\n",
       "                                                        max_features=None,\n",
       "                                                        min_df=1,\n",
       "                                                        ngram_range=(1, 1),\n",
       "                                                        norm='l2',\n",
       "                                                        preprocessor=None,\n",
       "                                                        smooth_idf=True,\n",
       "                                                        stop_words...\n",
       "                                                             leaf_size=30,\n",
       "                                                             metric='minkowski',\n",
       "                                                             metric_params=None,\n",
       "                                                             n_jobs=None,\n",
       "                                                             n_neighbors=5, p=2,\n",
       "                                                             weights='uniform'))],\n",
       "                                verbose=False),\n",
       "             iid='warn', n_jobs=None,\n",
       "             param_grid={'knn__n_neighbors': [5], 'tvec__max_df': [0.2, 0.4],\n",
       "                         'tvec__max_features': [1000], 'tvec__min_df': [100],\n",
       "                         'tvec__ngram_range': [(1, 1)]},\n",
       "             pre_dispatch='2*n_jobs', refit=True, return_train_score=False,\n",
       "             scoring=None, verbose=0)"
      ]
     },
     "execution_count": 20,
     "metadata": {},
     "output_type": "execute_result"
    }
   ],
   "source": [
    "pipe = Pipeline([\n",
    "    ('tvec',TfidfVectorizer(stop_words='english')),\n",
    "    ('knn',KNeighborsClassifier())\n",
    "])\n",
    "pipe_params = {\n",
    "    'knn__n_neighbors':[5],\n",
    "    'tvec__max_features':[1000],\n",
    "    'tvec__min_df':[100],\n",
    "    'tvec__max_df':[.2,.4],\n",
    "    'tvec__ngram_range':[(1,1)]\n",
    "}\n",
    "gs = GridSearchCV(pipe,pipe_params,cv=5)\n",
    "gs.fit(X_train,y_train)"
   ]
  },
  {
   "cell_type": "code",
   "execution_count": 21,
   "metadata": {},
   "outputs": [
    {
     "name": "stdout",
     "output_type": "stream",
     "text": [
      "Best score is 0.8129952456418383\n",
      "Best parameters are {'knn__n_neighbors': 5, 'tvec__max_df': 0.4, 'tvec__max_features': 1000, 'tvec__min_df': 100, 'tvec__ngram_range': (1, 1)}\n",
      "Train score is 0.8343898573692552\n",
      "Test score is 0.8218527315914489\n"
     ]
    }
   ],
   "source": [
    "print(f'Best score is {gs.best_score_}')\n",
    "print(f'Best parameters are {gs.best_params_}')\n",
    "best = gs.best_estimator_\n",
    "print(f'Train score is {best.score(X_train,y_train)}')\n",
    "print(f'Test score is {best.score(X_test,y_test)}')"
   ]
  },
  {
   "cell_type": "code",
   "execution_count": 22,
   "metadata": {},
   "outputs": [],
   "source": [
    "final['knn_predict'] = best.predict(X)"
   ]
  },
  {
   "cell_type": "code",
   "execution_count": 23,
   "metadata": {},
   "outputs": [
    {
     "name": "stdout",
     "output_type": "stream",
     "text": [
      "True negatives: 156\n",
      "False positives: 57\n",
      "False negatives: 18\n",
      "True positives: 190\n"
     ]
    }
   ],
   "source": [
    "cm = confusion_matrix(y_test,\n",
    "                 best.predict(X_test))\n",
    "tn, fp, fn, tp = confusion_matrix(y_test,\n",
    "                 best.predict(X_test)).ravel()\n",
    "print(f'True negatives: {tn}')\n",
    "print(f'False positives: {fp}')\n",
    "print(f'False negatives: {fn}')\n",
    "print(f'True positives: {tp}')"
   ]
  },
  {
   "cell_type": "code",
   "execution_count": 24,
   "metadata": {},
   "outputs": [
    {
     "name": "stdout",
     "output_type": "stream",
     "text": [
      "ROC AUC: 0.8227277248827625\n"
     ]
    },
    {
     "data": {
      "text/html": [
       "<div>\n",
       "<style scoped>\n",
       "    .dataframe tbody tr th:only-of-type {\n",
       "        vertical-align: middle;\n",
       "    }\n",
       "\n",
       "    .dataframe tbody tr th {\n",
       "        vertical-align: top;\n",
       "    }\n",
       "\n",
       "    .dataframe thead th {\n",
       "        text-align: right;\n",
       "    }\n",
       "</style>\n",
       "<table border=\"1\" class=\"dataframe\">\n",
       "  <thead>\n",
       "    <tr style=\"text-align: right;\">\n",
       "      <th></th>\n",
       "      <th>Predicted Angry</th>\n",
       "      <th>Predicted Happy</th>\n",
       "    </tr>\n",
       "  </thead>\n",
       "  <tbody>\n",
       "    <tr>\n",
       "      <th>Actually Angry</th>\n",
       "      <td>156</td>\n",
       "      <td>57</td>\n",
       "    </tr>\n",
       "    <tr>\n",
       "      <th>Actually Happy</th>\n",
       "      <td>18</td>\n",
       "      <td>190</td>\n",
       "    </tr>\n",
       "  </tbody>\n",
       "</table>\n",
       "</div>"
      ],
      "text/plain": [
       "                Predicted Angry  Predicted Happy\n",
       "Actually Angry  156              57             \n",
       "Actually Happy  18               190            "
      ]
     },
     "execution_count": 24,
     "metadata": {},
     "output_type": "execute_result"
    }
   ],
   "source": [
    "roc = roc_auc_score(final['subreddit'].replace({'angry':0,'happy':1}),\n",
    "              final['knn_predict'].replace({'angry':0,'happy':1}))\n",
    "print(f'ROC AUC: {roc}')\n",
    "cm_df = pd.DataFrame(cm, columns=['Predicted Angry', 'Predicted Happy'],\n",
    "                     index=['Actually Angry', 'Actually Happy'])\n",
    "cm_df"
   ]
  },
  {
   "cell_type": "code",
   "execution_count": 25,
   "metadata": {
    "scrolled": true
   },
   "outputs": [
    {
     "data": {
      "text/plain": [
       "happy    782\n",
       "angry    218\n",
       "Name: knn_predict, dtype: int64"
      ]
     },
     "execution_count": 25,
     "metadata": {},
     "output_type": "execute_result"
    }
   ],
   "source": [
    "wow['knn_predict'] = best.predict(wow['body'])\n",
    "wow['knn_predict'].value_counts()"
   ]
  },
  {
   "cell_type": "code",
   "execution_count": 26,
   "metadata": {},
   "outputs": [
    {
     "data": {
      "image/png": "[encoded data removed]",
      "text/plain": [
       "<Figure size 720x504 with 1 Axes>"
      ]
     },
     "metadata": {
      "needs_background": "light"
     },
     "output_type": "display_data"
    }
   ],
   "source": [
    "pred_proba = [i[1] for i in best.predict_proba(X_test)]\n",
    "pred_df = pd.DataFrame({'true_values': y_test,\n",
    "                        'pred_probs':pred_proba})\n",
    "# Create figure.\n",
    "plt.figure(figsize = (10,7))\n",
    "\n",
    "# Create two histograms of observations.\n",
    "plt.hist(pred_df[pred_df['true_values'] == 'angry']['pred_probs'],\n",
    "         bins = 25,\n",
    "         color = 'b',\n",
    "         alpha = 0.6,\n",
    "         label = 'Outcome = Angry')\n",
    "plt.hist(pred_df[pred_df['true_values'] == 'happy']['pred_probs'],\n",
    "         bins = 25,\n",
    "         color = 'orange',\n",
    "         alpha = 0.6,\n",
    "         label = 'Outcome = Happy')\n",
    "\n",
    "# Label axes.\n",
    "plt.title('Distribution of P(Outcome = Happy)', fontsize = 22)\n",
    "plt.ylabel('Frequency', fontsize = 18)\n",
    "plt.xlabel('Predicted Probability that Outcome = Happy', fontsize = 18)\n",
    "\n",
    "# Create legend.\n",
    "plt.legend(fontsize = 20);\n",
    "#Thank you Matt for the code from our lecture!"
   ]
  },
  {
   "cell_type": "markdown",
   "metadata": {},
   "source": [
    "### Random forest (tree and bagging included)"
   ]
  },
  {
   "cell_type": "code",
   "execution_count": 27,
   "metadata": {},
   "outputs": [
    {
     "data": {
      "text/plain": [
       "GridSearchCV(cv=5, error_score='raise-deprecating',\n",
       "             estimator=Pipeline(memory=None,\n",
       "                                steps=[('tvec',\n",
       "                                        TfidfVectorizer(analyzer='word',\n",
       "                                                        binary=False,\n",
       "                                                        decode_error='strict',\n",
       "                                                        dtype=<class 'numpy.float64'>,\n",
       "                                                        encoding='utf-8',\n",
       "                                                        input='content',\n",
       "                                                        lowercase=True,\n",
       "                                                        max_df=1.0,\n",
       "                                                        max_features=None,\n",
       "                                                        min_df=1,\n",
       "                                                        ngram_range=(1, 1),\n",
       "                                                        norm='l2',\n",
       "                                                        preprocessor=None,\n",
       "                                                        smooth_idf=True,\n",
       "                                                        stop_words...\n",
       "                                                               random_state=None,\n",
       "                                                               verbose=0,\n",
       "                                                               warm_start=False))],\n",
       "                                verbose=False),\n",
       "             iid='warn', n_jobs=None,\n",
       "             param_grid={'rf__max_depth': [20],\n",
       "                         'rf__max_features': [None, 'auto'],\n",
       "                         'rf__n_estimators': [1, 100], 'tvec__max_df': [0.85],\n",
       "                         'tvec__max_features': [800], 'tvec__min_df': [3],\n",
       "                         'tvec__ngram_range': [(1, 1), (1, 2)]},\n",
       "             pre_dispatch='2*n_jobs', refit=True, return_train_score=False,\n",
       "             scoring=None, verbose=0)"
      ]
     },
     "execution_count": 27,
     "metadata": {},
     "output_type": "execute_result"
    }
   ],
   "source": [
    "pipe = Pipeline([\n",
    "    ('tvec',TfidfVectorizer(stop_words='english')),\n",
    "    ('rf',RandomForestClassifier())\n",
    "])\n",
    "pipe_params = {\n",
    "    'rf__n_estimators':[1,100],\n",
    "    'rf__max_features':[None,'auto'],\n",
    "    'rf__max_depth':[20],\n",
    "    'tvec__max_features':[800],\n",
    "    'tvec__min_df':[3],\n",
    "    'tvec__max_df':[.85],\n",
    "    'tvec__ngram_range':[(1,1),(1,2)]\n",
    "}\n",
    "gs = GridSearchCV(pipe,pipe_params,cv=5)\n",
    "gs.fit(X_train,y_train)"
   ]
  },
  {
   "cell_type": "code",
   "execution_count": 28,
   "metadata": {},
   "outputs": [
    {
     "name": "stdout",
     "output_type": "stream",
     "text": [
      "Best score is 0.8882725832012678\n",
      "Best parameters are {'rf__max_depth': 20, 'rf__max_features': 'auto', 'rf__n_estimators': 100, 'tvec__max_df': 0.85, 'tvec__max_features': 800, 'tvec__min_df': 3, 'tvec__ngram_range': (1, 2)}\n",
      "Train score is 0.938985736925515\n",
      "Test score is 0.8907363420427553\n"
     ]
    }
   ],
   "source": [
    "print(f'Best score is {gs.best_score_}')\n",
    "print(f'Best parameters are {gs.best_params_}')\n",
    "best = gs.best_estimator_\n",
    "print(f'Train score is {best.score(X_train,y_train)}')\n",
    "print(f'Test score is {best.score(X_test,y_test)}')"
   ]
  },
  {
   "cell_type": "code",
   "execution_count": 29,
   "metadata": {},
   "outputs": [],
   "source": [
    "final['rf_predict'] = best.predict(X)"
   ]
  },
  {
   "cell_type": "code",
   "execution_count": 30,
   "metadata": {},
   "outputs": [
    {
     "name": "stdout",
     "output_type": "stream",
     "text": [
      "True negatives: 179\n",
      "False positives: 34\n",
      "False negatives: 12\n",
      "True positives: 196\n"
     ]
    }
   ],
   "source": [
    "cm = confusion_matrix(y_test,\n",
    "                 best.predict(X_test))\n",
    "tn, fp, fn, tp = confusion_matrix(y_test,\n",
    "                 best.predict(X_test)).ravel()\n",
    "print(f'True negatives: {tn}')\n",
    "print(f'False positives: {fp}')\n",
    "print(f'False negatives: {fn}')\n",
    "print(f'True positives: {tp}')"
   ]
  },
  {
   "cell_type": "code",
   "execution_count": 31,
   "metadata": {},
   "outputs": [
    {
     "name": "stdout",
     "output_type": "stream",
     "text": [
      "ROC AUC: 0.9217791672587752\n"
     ]
    },
    {
     "data": {
      "text/html": [
       "<div>\n",
       "<style scoped>\n",
       "    .dataframe tbody tr th:only-of-type {\n",
       "        vertical-align: middle;\n",
       "    }\n",
       "\n",
       "    .dataframe tbody tr th {\n",
       "        vertical-align: top;\n",
       "    }\n",
       "\n",
       "    .dataframe thead th {\n",
       "        text-align: right;\n",
       "    }\n",
       "</style>\n",
       "<table border=\"1\" class=\"dataframe\">\n",
       "  <thead>\n",
       "    <tr style=\"text-align: right;\">\n",
       "      <th></th>\n",
       "      <th>Predicted Angry</th>\n",
       "      <th>Predicted Happy</th>\n",
       "    </tr>\n",
       "  </thead>\n",
       "  <tbody>\n",
       "    <tr>\n",
       "      <th>Actually Angry</th>\n",
       "      <td>179</td>\n",
       "      <td>34</td>\n",
       "    </tr>\n",
       "    <tr>\n",
       "      <th>Actually Happy</th>\n",
       "      <td>12</td>\n",
       "      <td>196</td>\n",
       "    </tr>\n",
       "  </tbody>\n",
       "</table>\n",
       "</div>"
      ],
      "text/plain": [
       "                Predicted Angry  Predicted Happy\n",
       "Actually Angry  179              34             \n",
       "Actually Happy  12               196            "
      ]
     },
     "execution_count": 31,
     "metadata": {},
     "output_type": "execute_result"
    }
   ],
   "source": [
    "roc = roc_auc_score(final['subreddit'].replace({'angry':0,'happy':1}),\n",
    "              final['rf_predict'].replace({'angry':0,'happy':1}))\n",
    "print(f'ROC AUC: {roc}')\n",
    "cm_df = pd.DataFrame(cm, columns=['Predicted Angry', 'Predicted Happy'],\n",
    "                     index=['Actually Angry', 'Actually Happy'])\n",
    "cm_df"
   ]
  },
  {
   "cell_type": "code",
   "execution_count": 32,
   "metadata": {},
   "outputs": [
    {
     "data": {
      "text/plain": [
       "happy    790\n",
       "angry    210\n",
       "Name: rf_predict, dtype: int64"
      ]
     },
     "execution_count": 32,
     "metadata": {},
     "output_type": "execute_result"
    }
   ],
   "source": [
    "wow['rf_predict'] = best.predict(wow['body'])\n",
    "wow['rf_predict'].value_counts()"
   ]
  },
  {
   "cell_type": "code",
   "execution_count": 33,
   "metadata": {},
   "outputs": [
    {
     "data": {
      "image/png": "[encoded data removed]",
      "text/plain": [
       "<Figure size 720x504 with 1 Axes>"
      ]
     },
     "metadata": {
      "needs_background": "light"
     },
     "output_type": "display_data"
    }
   ],
   "source": [
    "pred_proba = [i[1] for i in best.predict_proba(X_test)]\n",
    "pred_df = pd.DataFrame({'true_values': y_test,\n",
    "                        'pred_probs':pred_proba})\n",
    "# Create figure.\n",
    "plt.figure(figsize = (10,7))\n",
    "\n",
    "# Create two histograms of observations.\n",
    "plt.hist(pred_df[pred_df['true_values'] == 'angry']['pred_probs'],\n",
    "         bins = 25,\n",
    "         color = 'b',\n",
    "         alpha = 0.6,\n",
    "         label = 'Outcome = Angry')\n",
    "plt.hist(pred_df[pred_df['true_values'] == 'happy']['pred_probs'],\n",
    "         bins = 25,\n",
    "         color = 'orange',\n",
    "         alpha = 0.6,\n",
    "         label = 'Outcome = Happy')\n",
    "\n",
    "# Label axes.\n",
    "plt.title('Distribution of P(Outcome = Happy)', fontsize = 22)\n",
    "plt.ylabel('Frequency', fontsize = 18)\n",
    "plt.xlabel('Predicted Probability that Outcome = Happy', fontsize = 18)\n",
    "\n",
    "# Create legend.\n",
    "plt.legend(fontsize = 20);\n",
    "#Thank you Matt for the code from our lecture!"
   ]
  },
  {
   "cell_type": "markdown",
   "metadata": {},
   "source": [
    "### Naive Bayes (Gaussian)"
   ]
  },
  {
   "cell_type": "code",
   "execution_count": 34,
   "metadata": {},
   "outputs": [],
   "source": [
    "from sklearn.base import TransformerMixin\n",
    "class DenseTransformer(TransformerMixin):\n",
    "    def fit(self, X, y=None, **fit_params):\n",
    "        return self\n",
    "    def transform(self, X, y=None, **fit_params):\n",
    "        return X.todense()"
   ]
  },
  {
   "cell_type": "code",
   "execution_count": 35,
   "metadata": {},
   "outputs": [
    {
     "data": {
      "text/plain": [
       "GridSearchCV(cv=5, error_score='raise-deprecating',\n",
       "             estimator=Pipeline(memory=None,\n",
       "                                steps=[('tvec',\n",
       "                                        TfidfVectorizer(analyzer='word',\n",
       "                                                        binary=False,\n",
       "                                                        decode_error='strict',\n",
       "                                                        dtype=<class 'numpy.float64'>,\n",
       "                                                        encoding='utf-8',\n",
       "                                                        input='content',\n",
       "                                                        lowercase=True,\n",
       "                                                        max_df=1.0,\n",
       "                                                        max_features=None,\n",
       "                                                        min_df=1,\n",
       "                                                        ngram_range=(1, 1),\n",
       "                                                        norm='l2',\n",
       "                                                        preprocessor=None,\n",
       "                                                        smooth_idf=True,\n",
       "                                                        stop_words...\n",
       "                                       ('to_dense',\n",
       "                                        <__main__.DenseTransformer object at 0x1a174817d0>),\n",
       "                                       ('gnb',\n",
       "                                        GaussianNB(priors=None,\n",
       "                                                   var_smoothing=1e-09))],\n",
       "                                verbose=False),\n",
       "             iid='warn', n_jobs=None,\n",
       "             param_grid={'tvec__max_df': [0.6, 0.7],\n",
       "                         'tvec__max_features': [1300, 1400],\n",
       "                         'tvec__min_df': [2, 3],\n",
       "                         'tvec__ngram_range': [(1, 1), (1, 2)]},\n",
       "             pre_dispatch='2*n_jobs', refit=True, return_train_score=False,\n",
       "             scoring=None, verbose=0)"
      ]
     },
     "execution_count": 35,
     "metadata": {},
     "output_type": "execute_result"
    }
   ],
   "source": [
    "pipe = Pipeline([\n",
    "    ('tvec',TfidfVectorizer(stop_words='english')),\n",
    "    ('to_dense', DenseTransformer()), \n",
    "    ('gnb',GaussianNB())\n",
    "])\n",
    "pipe_params = {\n",
    "    'tvec__max_features':[1300,1400],\n",
    "    'tvec__min_df':[2,3],\n",
    "    'tvec__max_df':[.6,.7,],\n",
    "    'tvec__ngram_range':[(1,1),(1,2)]\n",
    "}\n",
    "gs = GridSearchCV(pipe,pipe_params,cv=5)\n",
    "gs.fit(X_train,y_train)"
   ]
  },
  {
   "cell_type": "code",
   "execution_count": 36,
   "metadata": {},
   "outputs": [
    {
     "name": "stdout",
     "output_type": "stream",
     "text": [
      "Best score is 0.8240887480190174\n",
      "Best parameters are {'tvec__max_df': 0.6, 'tvec__max_features': 1300, 'tvec__min_df': 2, 'tvec__ngram_range': (1, 2)}\n",
      "Train score is 0.9619651347068146\n",
      "Test score is 0.8693586698337292\n"
     ]
    }
   ],
   "source": [
    "print(f'Best score is {gs.best_score_}')\n",
    "print(f'Best parameters are {gs.best_params_}')\n",
    "best = gs.best_estimator_\n",
    "print(f'Train score is {best.score(X_train,y_train)}')\n",
    "print(f'Test score is {best.score(X_test,y_test)}')"
   ]
  },
  {
   "cell_type": "code",
   "execution_count": 37,
   "metadata": {},
   "outputs": [],
   "source": [
    "final['nb_predict'] = best.predict(X)"
   ]
  },
  {
   "cell_type": "code",
   "execution_count": 38,
   "metadata": {},
   "outputs": [
    {
     "name": "stdout",
     "output_type": "stream",
     "text": [
      "True negatives: 188\n",
      "False positives: 25\n",
      "False negatives: 30\n",
      "True positives: 178\n"
     ]
    }
   ],
   "source": [
    "cm = confusion_matrix(y_test,\n",
    "                 best.predict(X_test))\n",
    "tn, fp, fn, tp = confusion_matrix(y_test,\n",
    "                 best.predict(X_test)).ravel()\n",
    "print(f'True negatives: {tn}')\n",
    "print(f'False positives: {fp}')\n",
    "print(f'False negatives: {fn}')\n",
    "print(f'True positives: {tp}')"
   ]
  },
  {
   "cell_type": "code",
   "execution_count": 39,
   "metadata": {},
   "outputs": [
    {
     "name": "stdout",
     "output_type": "stream",
     "text": [
      "ROC AUC: 0.9364779025152765\n"
     ]
    },
    {
     "data": {
      "text/html": [
       "<div>\n",
       "<style scoped>\n",
       "    .dataframe tbody tr th:only-of-type {\n",
       "        vertical-align: middle;\n",
       "    }\n",
       "\n",
       "    .dataframe tbody tr th {\n",
       "        vertical-align: top;\n",
       "    }\n",
       "\n",
       "    .dataframe thead th {\n",
       "        text-align: right;\n",
       "    }\n",
       "</style>\n",
       "<table border=\"1\" class=\"dataframe\">\n",
       "  <thead>\n",
       "    <tr style=\"text-align: right;\">\n",
       "      <th></th>\n",
       "      <th>Predicted Angry</th>\n",
       "      <th>Predicted Happy</th>\n",
       "    </tr>\n",
       "  </thead>\n",
       "  <tbody>\n",
       "    <tr>\n",
       "      <th>Actually Angry</th>\n",
       "      <td>188</td>\n",
       "      <td>25</td>\n",
       "    </tr>\n",
       "    <tr>\n",
       "      <th>Actually Happy</th>\n",
       "      <td>30</td>\n",
       "      <td>178</td>\n",
       "    </tr>\n",
       "  </tbody>\n",
       "</table>\n",
       "</div>"
      ],
      "text/plain": [
       "                Predicted Angry  Predicted Happy\n",
       "Actually Angry  188              25             \n",
       "Actually Happy  30               178            "
      ]
     },
     "execution_count": 39,
     "metadata": {},
     "output_type": "execute_result"
    }
   ],
   "source": [
    "roc = roc_auc_score(final['subreddit'].replace({'angry':0,'happy':1}),\n",
    "              final['nb_predict'].replace({'angry':0,'happy':1}))\n",
    "print(f'ROC AUC: {roc}')\n",
    "cm_df = pd.DataFrame(cm, columns=['Predicted Angry', 'Predicted Happy'],\n",
    "                     index=['Actually Angry', 'Actually Happy'])\n",
    "cm_df"
   ]
  },
  {
   "cell_type": "code",
   "execution_count": 40,
   "metadata": {},
   "outputs": [
    {
     "data": {
      "text/plain": [
       "angry    549\n",
       "happy    451\n",
       "Name: nb_predict, dtype: int64"
      ]
     },
     "execution_count": 40,
     "metadata": {},
     "output_type": "execute_result"
    }
   ],
   "source": [
    "wow['nb_predict'] = best.predict(wow['body'])\n",
    "wow['nb_predict'].value_counts()"
   ]
  },
  {
   "cell_type": "code",
   "execution_count": 41,
   "metadata": {},
   "outputs": [
    {
     "data": {
      "image/png": "[encoded data removed]",
      "text/plain": [
       "<Figure size 720x504 with 1 Axes>"
      ]
     },
     "metadata": {
      "needs_background": "light"
     },
     "output_type": "display_data"
    }
   ],
   "source": [
    "pred_proba = [i[1] for i in best.predict_proba(X_test)]\n",
    "pred_df = pd.DataFrame({'true_values': y_test,\n",
    "                        'pred_probs':pred_proba})\n",
    "# Create figure.\n",
    "plt.figure(figsize = (10,7))\n",
    "\n",
    "# Create two histograms of observations.\n",
    "plt.hist(pred_df[pred_df['true_values'] == 'angry']['pred_probs'],\n",
    "         bins = 25,\n",
    "         color = 'b',\n",
    "         alpha = 0.6,\n",
    "         label = 'Outcome = Angry')\n",
    "plt.hist(pred_df[pred_df['true_values'] == 'happy']['pred_probs'],\n",
    "         bins = 25,\n",
    "         color = 'orange',\n",
    "         alpha = 0.6,\n",
    "         label = 'Outcome = Happy')\n",
    "\n",
    "# Label axes.\n",
    "plt.title('Distribution of P(Outcome = Happy)', fontsize = 22)\n",
    "plt.ylabel('Frequency', fontsize = 18)\n",
    "plt.xlabel('Predicted Probability that Outcome = Happy', fontsize = 18)\n",
    "\n",
    "# Create legend.\n",
    "plt.legend(fontsize = 20);\n",
    "#Thank you Matt for the code from our lecture!"
   ]
  },
  {
   "cell_type": "markdown",
   "metadata": {},
   "source": [
    "## Looking at some values..."
   ]
  },
  {
   "cell_type": "code",
   "execution_count": 42,
   "metadata": {},
   "outputs": [
    {
     "data": {
      "text/html": [
       "<div>\n",
       "<style scoped>\n",
       "    .dataframe tbody tr th:only-of-type {\n",
       "        vertical-align: middle;\n",
       "    }\n",
       "\n",
       "    .dataframe tbody tr th {\n",
       "        vertical-align: top;\n",
       "    }\n",
       "\n",
       "    .dataframe thead th {\n",
       "        text-align: right;\n",
       "    }\n",
       "</style>\n",
       "<table border=\"1\" class=\"dataframe\">\n",
       "  <thead>\n",
       "    <tr style=\"text-align: right;\">\n",
       "      <th></th>\n",
       "      <th>body</th>\n",
       "      <th>subreddit</th>\n",
       "      <th>log_predict</th>\n",
       "      <th>log_proba</th>\n",
       "      <th>log_adjust</th>\n",
       "      <th>knn_predict</th>\n",
       "      <th>rf_predict</th>\n",
       "      <th>nb_predict</th>\n",
       "    </tr>\n",
       "  </thead>\n",
       "  <tbody>\n",
       "    <tr>\n",
       "      <th>0</th>\n",
       "      <td>congratulations  welcome to parenthood   i wish him a healthy and happy childhood</td>\n",
       "      <td>happy</td>\n",
       "      <td>happy</td>\n",
       "      <td>0.934858</td>\n",
       "      <td>happy</td>\n",
       "      <td>happy</td>\n",
       "      <td>happy</td>\n",
       "      <td>happy</td>\n",
       "    </tr>\n",
       "    <tr>\n",
       "      <th>1</th>\n",
       "      <td>congratulations  there is no greater blessing  no greater responsibility and no greater source of worry  angst and love to be found</td>\n",
       "      <td>happy</td>\n",
       "      <td>happy</td>\n",
       "      <td>0.890793</td>\n",
       "      <td>happy</td>\n",
       "      <td>happy</td>\n",
       "      <td>happy</td>\n",
       "      <td>happy</td>\n",
       "    </tr>\n",
       "    <tr>\n",
       "      <th>2</th>\n",
       "      <td>indeed  it s the small things that make a difference</td>\n",
       "      <td>happy</td>\n",
       "      <td>happy</td>\n",
       "      <td>0.729612</td>\n",
       "      <td>happy</td>\n",
       "      <td>happy</td>\n",
       "      <td>happy</td>\n",
       "      <td>happy</td>\n",
       "    </tr>\n",
       "    <tr>\n",
       "      <th>3</th>\n",
       "      <td>so happy for all of you</td>\n",
       "      <td>happy</td>\n",
       "      <td>happy</td>\n",
       "      <td>0.966244</td>\n",
       "      <td>happy</td>\n",
       "      <td>happy</td>\n",
       "      <td>happy</td>\n",
       "      <td>happy</td>\n",
       "    </tr>\n",
       "    <tr>\n",
       "      <th>4</th>\n",
       "      <td>oh man  i tutored for a couple years in college  mostly esl and i always felt like it was so worth it  not sure i made much of a difference  but every bit that could help always felt worth it</td>\n",
       "      <td>happy</td>\n",
       "      <td>happy</td>\n",
       "      <td>0.779127</td>\n",
       "      <td>happy</td>\n",
       "      <td>happy</td>\n",
       "      <td>happy</td>\n",
       "      <td>happy</td>\n",
       "    </tr>\n",
       "    <tr>\n",
       "      <th>...</th>\n",
       "      <td>...</td>\n",
       "      <td>...</td>\n",
       "      <td>...</td>\n",
       "      <td>...</td>\n",
       "      <td>...</td>\n",
       "      <td>...</td>\n",
       "      <td>...</td>\n",
       "      <td>...</td>\n",
       "    </tr>\n",
       "    <tr>\n",
       "      <th>1768</th>\n",
       "      <td>i started besting him over a stupid video game and now i have no friends and no one i care about  he was the only good thing in my life right now</td>\n",
       "      <td>angry</td>\n",
       "      <td>angry</td>\n",
       "      <td>0.267932</td>\n",
       "      <td>angry</td>\n",
       "      <td>happy</td>\n",
       "      <td>angry</td>\n",
       "      <td>angry</td>\n",
       "    </tr>\n",
       "    <tr>\n",
       "      <th>1769</th>\n",
       "      <td>i was really close with him and someone i knew introduced me to him because she kept telling me joe me and him were sooo  similar  in personality and attitude  so i was like meh who cares anyways  he s probably nobody special  then i met him by accident and got introduced to him and we became instant bffs  like he was my best friend  and rn i hate him so much  so we became very good friends and then he got introduced to one of my other only female friends   she wasn t really my friend   and they slowly became closer  it really wasn t fair at all tbh  i knew him first and this girl is like    and he s my age so    and they re so weird and flirty and creepy  and he used to tell me he thinks she s weird  honestly i hate him so much and made sure he wasn t left on any of my social media cuz he ghosted me first without reason  i m really done with fake people</td>\n",
       "      <td>angry</td>\n",
       "      <td>angry</td>\n",
       "      <td>0.326170</td>\n",
       "      <td>angry</td>\n",
       "      <td>angry</td>\n",
       "      <td>angry</td>\n",
       "      <td>angry</td>\n",
       "    </tr>\n",
       "    <tr>\n",
       "      <th>1770</th>\n",
       "      <td>i hate us  i d go so far as to say i d kill some of us  obviously i m not gonna do that  but i hate us that much  just fuck everyone  humans are scum</td>\n",
       "      <td>angry</td>\n",
       "      <td>angry</td>\n",
       "      <td>0.096049</td>\n",
       "      <td>angry</td>\n",
       "      <td>angry</td>\n",
       "      <td>angry</td>\n",
       "      <td>angry</td>\n",
       "    </tr>\n",
       "    <tr>\n",
       "      <th>1771</th>\n",
       "      <td>i love my mum like every other normal person but zzz i fucking hate myself im so fucking fat and ugly and i fucking hate eating it makes me feel like shit i wish i could just eat air for the rest of my fucking life but no i just end up binge eating every fucking night and gaining more weight im fat and ugly and i hate it  now there are alot of fucking things my mum does that makes me ultra angry but this definitely is up there when it comes to things i fucking hate  i have a fucking diet i try to follow but she vuys  much food and expects me to eat that tucking shit everyday i cant even finish it she buys so much and whenever i say im fat she fucking starts talking about herself being fat and that teenagers cant get fat fuck you annoying betchh ugh unfortunatelt teenagers can indeed get fat if yoy force them  to eat    meals a day and whenever i even mentiln a diet she just doesnt fucking  an  to hear it even if its completely fucking healthy like eat fruits or only eat   meals avoid supper shitlike thag and no ughhh k hage her for this also cuz she is so annoying in public its so embaressing i hate that i hate her but shes making me feel like this so too fuckin bad ugh deleting soon but im just angry and need to vent probablg going to cringe at this and regret it later but im too angry to think now</td>\n",
       "      <td>angry</td>\n",
       "      <td>angry</td>\n",
       "      <td>0.018089</td>\n",
       "      <td>angry</td>\n",
       "      <td>angry</td>\n",
       "      <td>angry</td>\n",
       "      <td>angry</td>\n",
       "    </tr>\n",
       "    <tr>\n",
       "      <th>1772</th>\n",
       "      <td>i m already going through some shit but no call me a weak twig after bringing a bag of shotpurs like     m uphill</td>\n",
       "      <td>angry</td>\n",
       "      <td>angry</td>\n",
       "      <td>0.382050</td>\n",
       "      <td>angry</td>\n",
       "      <td>angry</td>\n",
       "      <td>angry</td>\n",
       "      <td>angry</td>\n",
       "    </tr>\n",
       "  </tbody>\n",
       "</table>\n",
       "<p>1683 rows × 8 columns</p>\n",
       "</div>"
      ],
      "text/plain": [
       "                                                                                                                                                                                                                                                                                                                                                                                                                                                                                                                                                                                                                                                                                                                                                                                                                                                                                                                                                                                                                                                                                                                                                                                                                                                                                                                                                                           body  \\\n",
       "0     congratulations  welcome to parenthood   i wish him a healthy and happy childhood                                                                                                                                                                                                                                                                                                                                                                                                                                                                                                                                                                                                                                                                                                                                                                                                                                                                                                                                                                                                                                                                                                                                                                                                                                                                                           \n",
       "1     congratulations  there is no greater blessing  no greater responsibility and no greater source of worry  angst and love to be found                                                                                                                                                                                                                                                                                                                                                                                                                                                                                                                                                                                                                                                                                                                                                                                                                                                                                                                                                                                                                                                                                                                                                                                                                                         \n",
       "2     indeed  it s the small things that make a difference                                                                                                                                                                                                                                                                                                                                                                                                                                                                                                                                                                                                                                                                                                                                                                                                                                                                                                                                                                                                                                                                                                                                                                                                                                                                                                                        \n",
       "3     so happy for all of you                                                                                                                                                                                                                                                                                                                                                                                                                                                                                                                                                                                                                                                                                                                                                                                                                                                                                                                                                                                                                                                                                                                                                                                                                                                                                                                                                     \n",
       "4     oh man  i tutored for a couple years in college  mostly esl and i always felt like it was so worth it  not sure i made much of a difference  but every bit that could help always felt worth it                                                                                                                                                                                                                                                                                                                                                                                                                                                                                                                                                                                                                                                                                                                                                                                                                                                                                                                                                                                                                                                                                                                                                                             \n",
       "...                                                                                                                                                                                                ...                                                                                                                                                                                                                                                                                                                                                                                                                                                                                                                                                                                                                                                                                                                                                                                                                                                                                                                                                                                                                                                                                                                                                                            \n",
       "1768  i started besting him over a stupid video game and now i have no friends and no one i care about  he was the only good thing in my life right now                                                                                                                                                                                                                                                                                                                                                                                                                                                                                                                                                                                                                                                                                                                                                                                                                                                                                                                                                                                                                                                                                                                                                                                                                           \n",
       "1769  i was really close with him and someone i knew introduced me to him because she kept telling me joe me and him were sooo  similar  in personality and attitude  so i was like meh who cares anyways  he s probably nobody special  then i met him by accident and got introduced to him and we became instant bffs  like he was my best friend  and rn i hate him so much  so we became very good friends and then he got introduced to one of my other only female friends   she wasn t really my friend   and they slowly became closer  it really wasn t fair at all tbh  i knew him first and this girl is like    and he s my age so    and they re so weird and flirty and creepy  and he used to tell me he thinks she s weird  honestly i hate him so much and made sure he wasn t left on any of my social media cuz he ghosted me first without reason  i m really done with fake people                                                                                                                                                                                                                                                                                                                                                                                                                                                                          \n",
       "1770  i hate us  i d go so far as to say i d kill some of us  obviously i m not gonna do that  but i hate us that much  just fuck everyone  humans are scum                                                                                                                                                                                                                                                                                                                                                                                                                                                                                                                                                                                                                                                                                                                                                                                                                                                                                                                                                                                                                                                                                                                                                                                                                       \n",
       "1771  i love my mum like every other normal person but zzz i fucking hate myself im so fucking fat and ugly and i fucking hate eating it makes me feel like shit i wish i could just eat air for the rest of my fucking life but no i just end up binge eating every fucking night and gaining more weight im fat and ugly and i hate it  now there are alot of fucking things my mum does that makes me ultra angry but this definitely is up there when it comes to things i fucking hate  i have a fucking diet i try to follow but she vuys  much food and expects me to eat that tucking shit everyday i cant even finish it she buys so much and whenever i say im fat she fucking starts talking about herself being fat and that teenagers cant get fat fuck you annoying betchh ugh unfortunatelt teenagers can indeed get fat if yoy force them  to eat    meals a day and whenever i even mentiln a diet she just doesnt fucking  an  to hear it even if its completely fucking healthy like eat fruits or only eat   meals avoid supper shitlike thag and no ughhh k hage her for this also cuz she is so annoying in public its so embaressing i hate that i hate her but shes making me feel like this so too fuckin bad ugh deleting soon but im just angry and need to vent probablg going to cringe at this and regret it later but im too angry to think now    \n",
       "1772  i m already going through some shit but no call me a weak twig after bringing a bag of shotpurs like     m uphill                                                                                                                                                                                                                                                                                                                                                                                                                                                                                                                                                                                                                                                                                                                                                                                                                                                                                                                                                                                                                                                                                                                                                                                                                                                           \n",
       "\n",
       "     subreddit log_predict  log_proba log_adjust knn_predict rf_predict  \\\n",
       "0     happy     happy       0.934858   happy      happy       happy       \n",
       "1     happy     happy       0.890793   happy      happy       happy       \n",
       "2     happy     happy       0.729612   happy      happy       happy       \n",
       "3     happy     happy       0.966244   happy      happy       happy       \n",
       "4     happy     happy       0.779127   happy      happy       happy       \n",
       "...     ...       ...            ...     ...        ...         ...       \n",
       "1768  angry     angry       0.267932   angry      happy       angry       \n",
       "1769  angry     angry       0.326170   angry      angry       angry       \n",
       "1770  angry     angry       0.096049   angry      angry       angry       \n",
       "1771  angry     angry       0.018089   angry      angry       angry       \n",
       "1772  angry     angry       0.382050   angry      angry       angry       \n",
       "\n",
       "     nb_predict  \n",
       "0     happy      \n",
       "1     happy      \n",
       "2     happy      \n",
       "3     happy      \n",
       "4     happy      \n",
       "...     ...      \n",
       "1768  angry      \n",
       "1769  angry      \n",
       "1770  angry      \n",
       "1771  angry      \n",
       "1772  angry      \n",
       "\n",
       "[1683 rows x 8 columns]"
      ]
     },
     "execution_count": 42,
     "metadata": {},
     "output_type": "execute_result"
    }
   ],
   "source": [
    "final"
   ]
  },
  {
   "cell_type": "code",
   "execution_count": 43,
   "metadata": {},
   "outputs": [],
   "source": [
    "final.to_csv('final_predicts_4_models.csv',index=False)"
   ]
  }
 ],
 "metadata": {
  "kernelspec": {
   "display_name": "Python 3",
   "language": "python",
   "name": "python3"
  },
  "language_info": {
   "codemirror_mode": {
    "name": "ipython",
    "version": 3
   },
   "file_extension": ".py",
   "mimetype": "text/x-python",
   "name": "python",
   "nbconvert_exporter": "python",
   "pygments_lexer": "ipython3",
   "version": "3.7.4"
  }
 },
 "nbformat": 4,
 "nbformat_minor": 2
}
